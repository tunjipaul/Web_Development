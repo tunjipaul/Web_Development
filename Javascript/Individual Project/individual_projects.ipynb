{
 "cells": [
  {
   "cell_type": "markdown",
   "id": "48ae1b10",
   "metadata": {},
   "source": [
    "# 🎯 1. Student Performance Tracker\n",
    "\n",
    "**Module:** Introduction to Web Development with HTML, CSS & JavaScript  \n",
    "\n",
    "---\n",
    "\n",
    "### Task Description  \n",
    "\n",
    "In this activity, you are to design a simple **Student Performance Tracker** that teachers can use to manage classroom records directly from their browser. The goal is to create a webpage where a teacher can add student details, view all students at a glance, and easily identify those who are performing well or need support.  \n",
    "\n",
    "Your web page should include a form that allows the teacher to enter each student’s name, age, class, image URL, and the scores of three subjects. When a student is added, their information should appear in a table on the same page. Each row in the table should display the student’s profile picture, name, class, average score, and a performance category based on the average: **Excellent** for averages of 75 and above, **Good** for scores between 50 and 74, and **Needs Help** for any score below 50. The categories should be color-coded—green for excellent, yellow for good, and red for needs help—to make it easy to interpret at a glance.  \n",
    "\n",
    "In addition to displaying the records, the tracker should include a **search feature** that filters students by name as the teacher types. There should also be a **delete option** to remove any student from the list. To make the tracker more practical, the data should be saved in the browser using **localStorage**, so that all student records remain available even after refreshing the page.  \n",
    "\n",
    "You are expected to build this project using **HTML**, **CSS**, and **JavaScript**. Structure your files neatly in a folder named `student-tracker`, containing `index.html`, `style.css`, and `script.js`. Use any online image URLs for the student pictures, keeping them around **50×50 pixels** in size. Once your files are ready, open the `index.html` file in a web browser to view and test your work.  \n",
    "\n",
    "Finally, test your tracker by adding at least five students, trying out the search function, deleting one record, and refreshing the page to confirm that the data is still available.  \n"
   ]
  },
  {
   "cell_type": "markdown",
   "id": "399128a2",
   "metadata": {},
   "source": [
    "# 2. 🎯 To-Do List Application \n",
    "\n",
    "**Module:** Introduction to Web Development with HTML, CSS & JavaScript  \n",
    "\n",
    "---\n",
    "\n",
    "### Task Description  \n",
    "\n",
    "In this class activity, you will build a simple **To-Do List Application** that helps users organize and manage their daily tasks directly from their browser. The application should allow users to add new tasks, mark them as complete, and filter their tasks based on completion status or priority level.  \n",
    "\n",
    "Your webpage should include a form where users can enter a task name, select its priority (High, Medium, or Low), and set a due date. Once a task is added, it should appear in a list on the same page. Each task should clearly display its name, due date, priority level, and current status. Tasks should be color-coded based on priority — **red** for high priority, **orange** for medium priority, and **green** for low priority — so users can easily identify what to focus on.  \n",
    "\n",
    "Users should also be able to **mark tasks as completed**, either by checking a box or clicking a button. Completed tasks should automatically have a **strikethrough style** to show they are done. Additionally, provide a **delete option** that allows users to remove unwanted tasks from the list. To make the app more functional, include a **filter feature** that lets users view all tasks, only completed tasks, or only pending tasks.  \n",
    "\n",
    "All data should be saved locally using **localStorage**, so that tasks remain visible even after the page is refreshed.  \n",
    "\n",
    "You are expected to create this project using **HTML**, **CSS**, and **JavaScript**. Organize your files neatly inside a folder named `todo-list`, containing `index.html`, `style.css`, and `script.js`. Make sure the layout is simple, clean, and responsive. If you wish, you can enhance the interface by using **icons** from an online library such as [Font Awesome](https://cdnjs.cloudflare.com/ajax/libs/font-awesome/6.0.0/css/all.min.css) for delete, completion, or priority symbols.  \n",
    "\n",
    "After building your app, test it by adding at least seven tasks with different priorities. Mark some tasks as completed, use the filter options to view completed or pending ones, delete a few tasks, and refresh the page to confirm that your data is properly stored and loaded from localStorage.  \n",
    "\n",
    "Finally, open your `index.html` file in your browser (Chrome or Firefox) to preview and interact with your To-Do List application. You do not need an online editor — build and test everything locally on your computer.  \n"
   ]
  },
  {
   "cell_type": "markdown",
   "id": "8f497a6d",
   "metadata": {},
   "source": [
    "# 3. 🎯 Personal Expense Tracker \n",
    "\n",
    "**Module:** Introduction to Web Development with HTML, CSS & JavaScript  \n",
    "\n",
    "---\n",
    "\n",
    "### Task Description  \n",
    "\n",
    "In this class activity, you will create a **Personal Expense Tracker** — a simple browser-based tool that helps users record and monitor their daily spending habits. The goal is to build a webpage where users can log their expenses, view their total spending, and keep track of their budget using **HTML**, **CSS**, and **JavaScript**.  \n",
    "\n",
    "Your webpage should include a form that allows users to enter each expense with the following details: expense name, amount (₦), category (such as Food, Transport, Entertainment, Education, or Other), and the date. Once an expense is added, it should appear in a table showing all recorded expenses along with their details. At the top of the page, display the **total amount spent** so far.  \n",
    "\n",
    "Each expense category should be color-coded for easy identification — **orange** for Food, **blue** for Transport, **purple** for Entertainment, **green** for Education, and **gray** for Other. Users should also be able to **delete** an expense, and the total spending should update automatically whenever an item is removed.  \n",
    "\n",
    "To make the tracker more interactive, include a **filter feature** that allows users to view expenses by category using a dropdown menu. The filtered view should also show the total amount for the selected category. In addition, implement a **budget alert system**: allow users to set a monthly budget limit, and display a red warning message when their total spending exceeds **80% of the set budget**.  \n",
    "\n",
    "All expense data should be stored in the browser using **localStorage** so that the information remains available even after a page refresh. Ensure that all currency values are displayed in **Nigerian Naira (₦)** and formatted properly (e.g., ₦1,500.00).  \n",
    "\n",
    "Organize your files neatly in a folder named `expense-tracker`, containing `index.html`, `style.css`, and `script.js`. Keep your interface clean, responsive, and easy to use.  \n",
    "\n",
    "After completing the project, test your application by adding at least eight expenses across different categories. Try filtering by category, deleting an expense, setting a budget, and triggering the budget alert to confirm that your logic works correctly. Finally, refresh the page to ensure that all data persists using localStorage.  \n",
    "\n",
    "You should build and test your project locally on your computer by opening the `index.html` file in Chrome or Firefox. You do not need to use any online code editor.  \n"
   ]
  },
  {
   "cell_type": "markdown",
   "id": "476d2121",
   "metadata": {},
   "source": [
    "## Submission Deadline\n",
    "- Thursday 11:59pm"
   ]
  }
 ],
 "metadata": {
  "language_info": {
   "name": "python"
  }
 },
 "nbformat": 4,
 "nbformat_minor": 5
}
