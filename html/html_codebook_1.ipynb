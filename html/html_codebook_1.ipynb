{
 "cells": [
  {
   "cell_type": "markdown",
   "id": "13c7ac87",
   "metadata": {},
   "source": [
    "# Day 1: HTML Basics\n",
    "## Web Development Foundation Course"
   ]
  },
  {
   "cell_type": "markdown",
   "id": "3c1fdff4",
   "metadata": {},
   "source": [
    "## Learning Objectives\n",
    "By the end of this session, you will be able to:\n",
    "- Understand the structure and syntax of HTML\n",
    "- Create basic HTML documents with proper structure\n",
    "- Use essential HTML tags for content organization\n",
    "- Work with attributes and values\n",
    "- Build your first interactive web page"
   ]
  },
  {
   "cell_type": "markdown",
   "id": "e08bf058",
   "metadata": {},
   "source": [
    "## Introduction\n",
    "HTML (HyperText Markup Language) is the foundation of every website. It provides the structure and content that browsers display to users. Think of HTML as the skeleton of a webpage - it defines what content appears and how it's organized."
   ]
  },
  {
   "cell_type": "markdown",
   "id": "2e6cc344",
   "metadata": {},
   "source": [
    "## HTML Document Structure\n",
    "Every HTML document follows a standard structure with essential elements."
   ]
  },
  {
   "cell_type": "code",
   "execution_count": 5,
   "id": "ea0334a5",
   "metadata": {},
   "outputs": [
    {
     "data": {
      "text/html": [
       "<!DOCTYPE html>\n",
       "<html lang=\"en\">\n",
       "<head>\n",
       "    <meta charset=\"UTF-8\">\n",
       "    <meta name=\"viewport\" content=\"width=device-width, initial-scale=1.0\">\n",
       "    <title>My First HTML Page</title>\n",
       "</head>\n",
       "<body>\n",
       "    <h1>Welcome to HTML!</h1>\n",
       "    <p>This is your first HTML document.</p>\n",
       "</body>\n",
       "</html>\n"
      ],
      "text/plain": [
       "<IPython.core.display.HTML object>"
      ]
     },
     "metadata": {},
     "output_type": "display_data"
    }
   ],
   "source": [
    "%%html\n",
    "<!DOCTYPE html>\n",
    "<html lang=\"en\">\n",
    "<head>\n",
    "    <meta charset=\"UTF-8\">\n",
    "    <meta name=\"viewport\" content=\"width=device-width, initial-scale=1.0\">\n",
    "    <title>My First HTML Page</title>\n",
    "</head>\n",
    "<body>\n",
    "    <h1>Welcome to HTML!</h1>\n",
    "    <p>This is your first HTML document.</p>\n",
    "</body>\n",
    "</html>"
   ]
  },
  {
   "cell_type": "markdown",
   "id": "ee97df7d",
   "metadata": {},
   "source": [
    "### Structure Breakdown:\n",
    "- `<!DOCTYPE html>` - Declares this as an HTML5 document\n",
    "- `<html>` - Root element that contains all content\n",
    "- `<head>` - Contains metadata (not visible on page)\n",
    "- `<body>` - Contains visible content\n",
    "- `<title>` - Sets the page title (appears in browser tab)\n",
    "- `<h1>` - Main heading\n",
    "- `<p>` - Paragraph text"
   ]
  },
  {
   "cell_type": "markdown",
   "id": "4c453e88",
   "metadata": {},
   "source": [
    "## HTML Headings\n",
    "HTML provides six levels of headings, from `<h1>` (largest) to `<h6>` (smallest)."
   ]
  },
  {
   "cell_type": "code",
   "execution_count": 1,
   "id": "060af301",
   "metadata": {},
   "outputs": [
    {
     "data": {
      "text/html": [
       "<h1>This is Heading 1 - Main Title</h1>\n",
       "<h2>This is Heading 2 - Section Title</h2>\n",
       "<h3>This is Heading 3 - Subsection</h3>\n",
       "<h4>This is Heading 4 - Sub-subsection</h4>\n",
       "<h5>This is Heading 5 - Minor heading</h5>\n",
       "<h6>This is Heading 6 - Smallest heading</h6>\n"
      ],
      "text/plain": [
       "<IPython.core.display.HTML object>"
      ]
     },
     "metadata": {},
     "output_type": "display_data"
    }
   ],
   "source": [
    "%%html\n",
    "<h1>This is Heading 1 - Main Title</h1>\n",
    "<h2>This is Heading 2 - Section Title</h2>\n",
    "<h3>This is Heading 3 - Subsection</h3>\n",
    "<h4>This is Heading 4 - Sub-subsection</h4>\n",
    "<h5>This is Heading 5 - Minor heading</h5>\n",
    "<h6>This is Heading 6 - Smallest heading</h6>"
   ]
  },
  {
   "cell_type": "markdown",
   "id": "b1a327b1",
   "metadata": {},
   "source": [
    "## Paragraphs and Text Formatting\n",
    "Paragraphs are the building blocks of content, and we can format text in various ways."
   ]
  },
  {
   "cell_type": "code",
   "execution_count": 3,
   "id": "b99e4a4a",
   "metadata": {},
   "outputs": [
    {
     "data": {
      "text/html": [
       "<p>This is a normal paragraph of text.</p>\n",
       "<p>This paragraph contains <strong>bold text</strong> and <em>italic text</em>.</p>\n",
       "<p>You can also use <b>bold</b> and <i>italic</i> tags.</p>\n",
       "<p>This text has <u>underline</u> and this has <mark>highlighting</mark>.</p>\n",
       "<p>For code, use <code>console.log('Hello World')</code> tags.</p>\n",
       "<p>Chemical formulas: H<sub>2</sub>O and equations: E=mc<sup>2</sup></p>\n"
      ],
      "text/plain": [
       "<IPython.core.display.HTML object>"
      ]
     },
     "metadata": {},
     "output_type": "display_data"
    }
   ],
   "source": [
    "%%html\n",
    "<p>This is a normal paragraph of text.</p>\n",
    "<p>This paragraph contains <strong>bold text</strong> and <em>italic text</em>.</p>\n",
    "<p>You can also use <b>bold</b> and <i>italic</i> tags.</p>\n",
    "<p>This text has <u>underline</u> and this has <mark>highlighting</mark>.</p>\n",
    "<p>For code, use <code>console.log('Hello World')</code> tags.</p>\n",
    "<p>Chemical formulas: H<sub>2</sub>O and equations: E=mc<sup>2</sup></p>"
   ]
  },
  {
   "cell_type": "markdown",
   "id": "b9e6d4dc",
   "metadata": {},
   "source": [
    "## Lists in HTML\n",
    "HTML supports ordered (numbered) and unordered (bulleted) lists."
   ]
  },
  {
   "cell_type": "code",
   "execution_count": 2,
   "id": "518477ad",
   "metadata": {
    "vscode": {
     "languageId": "html"
    }
   },
   "outputs": [
    {
     "data": {
      "text/html": [
       "<h3>Unordered List (Bullets)</h3>\n",
       "<ul>\n",
       "    <li>HTML - Structure</li>\n",
       "    <li>CSS - Styling</li>\n",
       "    <li>JavaScript - Behavior</li>\n",
       "    <li>React - Framework</li>\n",
       "</ul>\n"
      ],
      "text/plain": [
       "<IPython.core.display.HTML object>"
      ]
     },
     "metadata": {},
     "output_type": "display_data"
    }
   ],
   "source": [
    "%%html\n",
    "<h3>Unordered List (Bullets)</h3>\n",
    "<ul>\n",
    "    <li>HTML - Structure</li>\n",
    "    <li>CSS - Styling</li>\n",
    "    <li>JavaScript - Behavior</li>\n",
    "    <li>React - Framework</li>\n",
    "</ul>"
   ]
  },
  {
   "cell_type": "code",
   "execution_count": 3,
   "id": "376ff740",
   "metadata": {
    "vscode": {
     "languageId": "html"
    }
   },
   "outputs": [
    {
     "data": {
      "text/html": [
       "<h3>Ordered List (Numbers)</h3>\n",
       "<ol>\n",
       "    <li>Learn HTML basics</li>\n",
       "    <li>Master CSS styling</li>\n",
       "    <li>Practice JavaScript</li>\n",
       "    <li>Build projects</li>\n",
       "</ol>\n"
      ],
      "text/plain": [
       "<IPython.core.display.HTML object>"
      ]
     },
     "metadata": {},
     "output_type": "display_data"
    }
   ],
   "source": [
    "%%html\n",
    "<h3>Ordered List (Numbers)</h3>\n",
    "<ol>\n",
    "    <li>Learn HTML basics</li>\n",
    "    <li>Master CSS styling</li>\n",
    "    <li>Practice JavaScript</li>\n",
    "    <li>Build projects</li>\n",
    "</ol>"
   ]
  },
  {
   "cell_type": "code",
   "execution_count": 7,
   "id": "98dbea45",
   "metadata": {
    "vscode": {
     "languageId": "html"
    }
   },
   "outputs": [
    {
     "data": {
      "text/html": [
       "\n",
       "<h3>Nested Lists</h3>\n",
       "<ul>\n",
       "    <li>Frontend Technologies\n",
       "        <ul>\n",
       "            <li>HTML</li>\n",
       "            <li>CSS</li>\n",
       "            <li>JavaScript</li>\n",
       "        </ul>\n",
       "    </li>\n",
       "    <li>Backend Technologies\n",
       "        <ul>\n",
       "            <li>Python</li>\n",
       "            <li>Node.js</li>\n",
       "            <li>PHP</li>\n",
       "        </ul>\n",
       "    </li>\n",
       "</ul>\n"
      ],
      "text/plain": [
       "<IPython.core.display.HTML object>"
      ]
     },
     "metadata": {},
     "output_type": "display_data"
    }
   ],
   "source": [
    "%%html\n",
    "\n",
    "<h3>Nested Lists</h3>\n",
    "<ul>\n",
    "    <li>Frontend Technologies\n",
    "        <ul>\n",
    "            <li>HTML</li>\n",
    "            <li>CSS</li>\n",
    "            <li>JavaScript</li>\n",
    "        </ul>\n",
    "    </li>\n",
    "    <li>Backend Technologies\n",
    "        <ul>\n",
    "            <li>Python</li>\n",
    "            <li>Node.js</li>\n",
    "            <li>PHP</li>\n",
    "        </ul>\n",
    "    </li>\n",
    "</ul>"
   ]
  },
  {
   "cell_type": "markdown",
   "id": "0d7255c0",
   "metadata": {},
   "source": [
    "## HTML Attributes\n",
    "Attributes provide additional information about HTML elements. They are written inside the opening tag."
   ]
  },
  {
   "cell_type": "code",
   "execution_count": 6,
   "id": "d3c0a112",
   "metadata": {},
   "outputs": [
    {
     "data": {
      "text/html": [
       "<div style=\"border: 2px solid blue; padding: 15px; margin: 10px;\">\n",
       "    <h2 id=\"main-title\" class=\"header-style\">Attributes Example</h2>\n",
       "    \n",
       "    <p title=\"This tooltip appears on hover!\">Hover over this text to see a tooltip.</p>\n",
       "    \n",
       "    <p style=\"color: red; font-size: 18px;\">This text is styled with inline CSS.</p>\n",
       "    \n",
       "    <p lang=\"es\">Hola mundo!</p>\n",
       "    \n",
       "    <div class=\"info-box\" id=\"special-section\">\n",
       "        <p>This div has both class and id attributes for styling and JavaScript targeting.</p>\n",
       "    </div>\n",
       "</div>\n",
       "\n",
       "<p><strong>Common Attributes:</strong></p>\n",
       "<ul>\n",
       "    <li><code>id</code> - Unique identifier</li>\n",
       "    <li><code>class</code> - Grouping elements for styling</li>\n",
       "    <li><code>style</code> - Inline CSS styling</li>\n",
       "    <li><code>title</code> - Tooltip text</li>\n",
       "    <li><code>lang</code> - Language specification</li>\n",
       "</ul>\n"
      ],
      "text/plain": [
       "<IPython.core.display.HTML object>"
      ]
     },
     "metadata": {},
     "output_type": "display_data"
    }
   ],
   "source": [
    "%%html\n",
    "<div style=\"border: 2px solid blue; padding: 15px; margin: 10px;\">\n",
    "    <h2 id=\"main-title\" class=\"header-style\">Attributes Example</h2>\n",
    "    \n",
    "    <p title=\"This tooltip appears on hover!\">Hover over this text to see a tooltip.</p>\n",
    "    \n",
    "    <p style=\"color: red; font-size: 18px;\">This text is styled with inline CSS.</p>\n",
    "    \n",
    "    <p lang=\"es\">Hola mundo!</p>\n",
    "    \n",
    "    <div class=\"info-box\" id=\"special-section\">\n",
    "        <p>This div has both class and id attributes for styling and JavaScript targeting.</p>\n",
    "    </div>\n",
    "</div>\n",
    "\n",
    "<p><strong>Common Attributes:</strong></p>\n",
    "<ul>\n",
    "    <li><code>id</code> - Unique identifier</li>\n",
    "    <li><code>class</code> - Grouping elements for styling</li>\n",
    "    <li><code>style</code> - Inline CSS styling</li>\n",
    "    <li><code>title</code> - Tooltip text</li>\n",
    "    <li><code>lang</code> - Language specification</li>\n",
    "</ul>"
   ]
  },
  {
   "cell_type": "markdown",
   "id": "6e9b18fe",
   "metadata": {},
   "source": [
    "## 🎯 Practice Exercise 1\n",
    "**Task:** Create a simple \"About Me\" webpage with the following elements:\n",
    "- A main title (h1)\n",
    "- Two section headings (h2)\n",
    "- Paragraphs with your information\n",
    "- A list of your hobbies\n",
    "- Use at least 3 different text formatting tags"
   ]
  },
  {
   "cell_type": "markdown",
   "id": "7817e8c2",
   "metadata": {},
   "source": [
    "## 🎯 Practice Exercise 2\n",
    "**Task:** Create a list of 5 programming languages you want to master, and make one of them a sublist with framework you want to learn under it."
   ]
  },
  {
   "cell_type": "markdown",
   "id": "268f7248",
   "metadata": {},
   "source": [
    "## Div and Span Elements\n",
    "`<div>` and `<span>` are container elements used for grouping and styling."
   ]
  },
  {
   "cell_type": "code",
   "execution_count": 12,
   "id": "5e582756",
   "metadata": {},
   "outputs": [
    {
     "data": {
      "text/html": [
       "<div style=\"background-color: black; padding: 20px; border-radius: 10px;\">\n",
       "    <h3>This is a DIV Container</h3>\n",
       "    <p>Div is a <strong>block-level</strong> element that takes up the full width available.</p>\n",
       "    <p>This paragraph contains a <span style=\"background-color: green; padding: 2px;\">highlighted span</span> element.</p>\n",
       "    <p>Span is an <strong>inline</strong> element that only takes up as much width as necessary.</p>\n",
       "</div>\n",
       "\n",
       "<div style=\"background-color: #black; padding: 15px; margin-top: 15px; border-left: 4px solid #ff6b6b;\">\n",
       "    <h4>Key Differences:</h4>\n",
       "    <ul>\n",
       "        <li><strong>DIV:</strong> Block-level, creates new line, full width</li>\n",
       "        <li><strong>SPAN:</strong> Inline, stays on same line, minimal width</li>\n",
       "    </ul>\n",
       "</div>\n"
      ],
      "text/plain": [
       "<IPython.core.display.HTML object>"
      ]
     },
     "metadata": {},
     "output_type": "display_data"
    }
   ],
   "source": [
    "%%html\n",
    "<div style=\"background-color: black; padding: 20px; border-radius: 10px;\">\n",
    "    <h3>This is a DIV Container</h3>\n",
    "    <p>Div is a <strong>block-level</strong> element that takes up the full width available.</p>\n",
    "    <p>This paragraph contains a <span style=\"background-color: green; padding: 2px;\">highlighted span</span> element.</p>\n",
    "    <p>Span is an <strong>inline</strong> element that only takes up as much width as necessary.</p>\n",
    "</div>\n",
    "\n",
    "<div style=\"background-color: #black; padding: 15px; margin-top: 15px; border-left: 4px solid #ff6b6b;\">\n",
    "    <h4>Key Differences:</h4>\n",
    "    <ul>\n",
    "        <li><strong>DIV:</strong> Block-level, creates new line, full width</li>\n",
    "        <li><strong>SPAN:</strong> Inline, stays on same line, minimal width</li>\n",
    "    </ul>\n",
    "</div>"
   ]
  },
  {
   "cell_type": "markdown",
   "id": "b0bd8c06",
   "metadata": {},
   "source": [
    "## 🎯 Practice Exercise 3\n",
    "**Task:** **Create a complete personal homepage using everything you've learned so far.**\n",
    "\n",
    "**Requirements:**\n",
    "- Proper HTML document structure\n",
    "- Multiple heading levels\n",
    "- At least 3 paragraphs with various text formatting\n",
    "- Both ordered and unordered lists\n",
    "- Use divs for content organization\n",
    "- Include comments to document your code\n",
    "- Add inline styling for visual appeal"
   ]
  }
 ],
 "metadata": {
  "kernelspec": {
   "display_name": "publica",
   "language": "python",
   "name": "python3"
  },
  "language_info": {
   "codemirror_mode": {
    "name": "ipython",
    "version": 3
   },
   "file_extension": ".py",
   "mimetype": "text/x-python",
   "name": "python",
   "nbconvert_exporter": "python",
   "pygments_lexer": "ipython3",
   "version": "3.10.15"
  }
 },
 "nbformat": 4,
 "nbformat_minor": 5
}
